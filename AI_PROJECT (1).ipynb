{
 "cells": [
  {
   "cell_type": "code",
   "execution_count": 1,
   "id": "1a3f13d1",
   "metadata": {},
   "outputs": [
    {
     "name": "stdout",
     "output_type": "stream",
     "text": [
      "C:\\Users\\choud\\Emotion-detection\n"
     ]
    }
   ],
   "source": [
    "%cd Emotion-detection"
   ]
  },
  {
   "cell_type": "code",
   "execution_count": 2,
   "id": "1baf4e5f",
   "metadata": {
    "scrolled": false
   },
   "outputs": [
    {
     "name": "stdout",
     "output_type": "stream",
     "text": [
      "Requirement already satisfied: numpy==1.19.2 in c:\\python\\python38\\lib\\site-packages (from -r requirements.txt (line 1)) (1.19.2)\n",
      "Requirement already satisfied: opencv-python==4.2.0.32 in c:\\python\\python38\\lib\\site-packages (from -r requirements.txt (line 2)) (4.2.0.32)\n",
      "Requirement already satisfied: tensorflow==2.5.1 in c:\\python\\python38\\lib\\site-packages (from -r requirements.txt (line 3)) (2.5.1)\n",
      "Requirement already satisfied: pandas==1.3.4 in c:\\python\\python38\\lib\\site-packages (from -r requirements.txt (line 4)) (1.3.4)\n",
      "Requirement already satisfied: seaborn==0.11.2 in c:\\python\\python38\\lib\\site-packages (from -r requirements.txt (line 5)) (0.11.2)\n",
      "Requirement already satisfied: sklearn==0.0 in c:\\python\\python38\\lib\\site-packages (from -r requirements.txt (line 6)) (0.0)\n",
      "Requirement already satisfied: astunparse~=1.6.3 in c:\\python\\python38\\lib\\site-packages (from tensorflow==2.5.1->-r requirements.txt (line 3)) (1.6.3)\n",
      "Requirement already satisfied: flatbuffers~=1.12.0 in c:\\python\\python38\\lib\\site-packages (from tensorflow==2.5.1->-r requirements.txt (line 3)) (1.12)\n",
      "Requirement already satisfied: keras-nightly~=2.5.0.dev in c:\\python\\python38\\lib\\site-packages (from tensorflow==2.5.1->-r requirements.txt (line 3)) (2.5.0.dev2021032900)\n",
      "Requirement already satisfied: protobuf>=3.9.2 in c:\\python\\python38\\lib\\site-packages (from tensorflow==2.5.1->-r requirements.txt (line 3)) (3.19.1)\n",
      "Requirement already satisfied: typing-extensions~=3.7.4 in c:\\python\\python38\\lib\\site-packages (from tensorflow==2.5.1->-r requirements.txt (line 3)) (3.7.4.3)\n",
      "Requirement already satisfied: opt-einsum~=3.3.0 in c:\\python\\python38\\lib\\site-packages (from tensorflow==2.5.1->-r requirements.txt (line 3)) (3.3.0)\n",
      "Requirement already satisfied: termcolor~=1.1.0 in c:\\python\\python38\\lib\\site-packages (from tensorflow==2.5.1->-r requirements.txt (line 3)) (1.1.0)\n",
      "Requirement already satisfied: google-pasta~=0.2 in c:\\python\\python38\\lib\\site-packages (from tensorflow==2.5.1->-r requirements.txt (line 3)) (0.2.0)\n",
      "Requirement already satisfied: grpcio~=1.34.0 in c:\\python\\python38\\lib\\site-packages (from tensorflow==2.5.1->-r requirements.txt (line 3)) (1.34.1)\n",
      "Requirement already satisfied: six~=1.15.0 in c:\\python\\python38\\lib\\site-packages (from tensorflow==2.5.1->-r requirements.txt (line 3)) (1.15.0)\n",
      "Requirement already satisfied: absl-py~=0.10 in c:\\python\\python38\\lib\\site-packages (from tensorflow==2.5.1->-r requirements.txt (line 3)) (0.15.0)\n",
      "Requirement already satisfied: tensorflow-estimator<2.6.0,>=2.5.0 in c:\\python\\python38\\lib\\site-packages (from tensorflow==2.5.1->-r requirements.txt (line 3)) (2.5.0)\n",
      "Requirement already satisfied: wrapt~=1.12.1 in c:\\python\\python38\\lib\\site-packages (from tensorflow==2.5.1->-r requirements.txt (line 3)) (1.12.1)\n",
      "Requirement already satisfied: tensorboard~=2.5 in c:\\python\\python38\\lib\\site-packages (from tensorflow==2.5.1->-r requirements.txt (line 3)) (2.7.0)\n",
      "Requirement already satisfied: wheel~=0.35 in c:\\python\\python38\\lib\\site-packages (from tensorflow==2.5.1->-r requirements.txt (line 3)) (0.37.0)\n",
      "Requirement already satisfied: gast==0.4.0 in c:\\python\\python38\\lib\\site-packages (from tensorflow==2.5.1->-r requirements.txt (line 3)) (0.4.0)\n",
      "Requirement already satisfied: h5py~=3.1.0 in c:\\python\\python38\\lib\\site-packages (from tensorflow==2.5.1->-r requirements.txt (line 3)) (3.1.0)\n",
      "Requirement already satisfied: keras-preprocessing~=1.1.2 in c:\\python\\python38\\lib\\site-packages (from tensorflow==2.5.1->-r requirements.txt (line 3)) (1.1.2)\n",
      "Requirement already satisfied: python-dateutil>=2.7.3 in c:\\python\\python38\\lib\\site-packages (from pandas==1.3.4->-r requirements.txt (line 4)) (2.8.2)\n",
      "Requirement already satisfied: pytz>=2017.3 in c:\\python\\python38\\lib\\site-packages (from pandas==1.3.4->-r requirements.txt (line 4)) (2021.3)\n",
      "Requirement already satisfied: scipy>=1.0 in c:\\python\\python38\\lib\\site-packages (from seaborn==0.11.2->-r requirements.txt (line 5)) (1.7.3)\n",
      "Requirement already satisfied: matplotlib>=2.2 in c:\\python\\python38\\lib\\site-packages (from seaborn==0.11.2->-r requirements.txt (line 5)) (3.5.0)\n",
      "Requirement already satisfied: scikit-learn in c:\\python\\python38\\lib\\site-packages (from sklearn==0.0->-r requirements.txt (line 6)) (1.0.1)\n",
      "Requirement already satisfied: pillow>=6.2.0 in c:\\python\\python38\\lib\\site-packages (from matplotlib>=2.2->seaborn==0.11.2->-r requirements.txt (line 5)) (8.4.0)\n",
      "Requirement already satisfied: kiwisolver>=1.0.1 in c:\\python\\python38\\lib\\site-packages (from matplotlib>=2.2->seaborn==0.11.2->-r requirements.txt (line 5)) (1.3.2)\n",
      "Requirement already satisfied: fonttools>=4.22.0 in c:\\python\\python38\\lib\\site-packages (from matplotlib>=2.2->seaborn==0.11.2->-r requirements.txt (line 5)) (4.28.2)\n",
      "Requirement already satisfied: cycler>=0.10 in c:\\python\\python38\\lib\\site-packages (from matplotlib>=2.2->seaborn==0.11.2->-r requirements.txt (line 5)) (0.11.0)\n",
      "Requirement already satisfied: pyparsing>=2.2.1 in c:\\python\\python38\\lib\\site-packages (from matplotlib>=2.2->seaborn==0.11.2->-r requirements.txt (line 5)) (3.0.6)\n",
      "Requirement already satisfied: setuptools-scm>=4 in c:\\python\\python38\\lib\\site-packages (from matplotlib>=2.2->seaborn==0.11.2->-r requirements.txt (line 5)) (6.3.2)\n",
      "Requirement already satisfied: packaging>=20.0 in c:\\python\\python38\\lib\\site-packages (from matplotlib>=2.2->seaborn==0.11.2->-r requirements.txt (line 5)) (21.3)\n",
      "Requirement already satisfied: setuptools>=41.0.0 in c:\\python\\python38\\lib\\site-packages (from tensorboard~=2.5->tensorflow==2.5.1->-r requirements.txt (line 3)) (59.3.0)\n",
      "Requirement already satisfied: google-auth-oauthlib<0.5,>=0.4.1 in c:\\python\\python38\\lib\\site-packages (from tensorboard~=2.5->tensorflow==2.5.1->-r requirements.txt (line 3)) (0.4.6)\n",
      "Requirement already satisfied: tensorboard-data-server<0.7.0,>=0.6.0 in c:\\python\\python38\\lib\\site-packages (from tensorboard~=2.5->tensorflow==2.5.1->-r requirements.txt (line 3)) (0.6.1)\n",
      "Requirement already satisfied: markdown>=2.6.8 in c:\\python\\python38\\lib\\site-packages (from tensorboard~=2.5->tensorflow==2.5.1->-r requirements.txt (line 3)) (3.3.6)\n",
      "Requirement already satisfied: requests<3,>=2.21.0 in c:\\python\\python38\\lib\\site-packages (from tensorboard~=2.5->tensorflow==2.5.1->-r requirements.txt (line 3)) (2.26.0)\n",
      "Requirement already satisfied: werkzeug>=0.11.15 in c:\\python\\python38\\lib\\site-packages (from tensorboard~=2.5->tensorflow==2.5.1->-r requirements.txt (line 3)) (2.0.2)\n",
      "Requirement already satisfied: tensorboard-plugin-wit>=1.6.0 in c:\\python\\python38\\lib\\site-packages (from tensorboard~=2.5->tensorflow==2.5.1->-r requirements.txt (line 3)) (1.8.0)\n",
      "Requirement already satisfied: google-auth<3,>=1.6.3 in c:\\python\\python38\\lib\\site-packages (from tensorboard~=2.5->tensorflow==2.5.1->-r requirements.txt (line 3)) (2.3.3)\n",
      "Requirement already satisfied: threadpoolctl>=2.0.0 in c:\\python\\python38\\lib\\site-packages (from scikit-learn->sklearn==0.0->-r requirements.txt (line 6)) (3.0.0)\n",
      "Requirement already satisfied: joblib>=0.11 in c:\\python\\python38\\lib\\site-packages (from scikit-learn->sklearn==0.0->-r requirements.txt (line 6)) (1.1.0)\n",
      "Requirement already satisfied: pyasn1-modules>=0.2.1 in c:\\python\\python38\\lib\\site-packages (from google-auth<3,>=1.6.3->tensorboard~=2.5->tensorflow==2.5.1->-r requirements.txt (line 3)) (0.2.8)\n",
      "Requirement already satisfied: cachetools<5.0,>=2.0.0 in c:\\python\\python38\\lib\\site-packages (from google-auth<3,>=1.6.3->tensorboard~=2.5->tensorflow==2.5.1->-r requirements.txt (line 3)) (4.2.4)\n",
      "Requirement already satisfied: rsa<5,>=3.1.4 in c:\\python\\python38\\lib\\site-packages (from google-auth<3,>=1.6.3->tensorboard~=2.5->tensorflow==2.5.1->-r requirements.txt (line 3)) (4.8)\n",
      "Requirement already satisfied: requests-oauthlib>=0.7.0 in c:\\python\\python38\\lib\\site-packages (from google-auth-oauthlib<0.5,>=0.4.1->tensorboard~=2.5->tensorflow==2.5.1->-r requirements.txt (line 3)) (1.3.0)\n",
      "Requirement already satisfied: importlib-metadata>=4.4 in c:\\python\\python38\\lib\\site-packages (from markdown>=2.6.8->tensorboard~=2.5->tensorflow==2.5.1->-r requirements.txt (line 3)) (4.8.2)\n",
      "Requirement already satisfied: urllib3<1.27,>=1.21.1 in c:\\python\\python38\\lib\\site-packages (from requests<3,>=2.21.0->tensorboard~=2.5->tensorflow==2.5.1->-r requirements.txt (line 3)) (1.26.7)\n",
      "Requirement already satisfied: certifi>=2017.4.17 in c:\\python\\python38\\lib\\site-packages (from requests<3,>=2.21.0->tensorboard~=2.5->tensorflow==2.5.1->-r requirements.txt (line 3)) (2021.10.8)\n",
      "Requirement already satisfied: charset-normalizer~=2.0.0 in c:\\python\\python38\\lib\\site-packages (from requests<3,>=2.21.0->tensorboard~=2.5->tensorflow==2.5.1->-r requirements.txt (line 3)) (2.0.8)\n",
      "Requirement already satisfied: idna<4,>=2.5 in c:\\python\\python38\\lib\\site-packages (from requests<3,>=2.21.0->tensorboard~=2.5->tensorflow==2.5.1->-r requirements.txt (line 3)) (3.3)\n",
      "Requirement already satisfied: tomli>=1.0.0 in c:\\python\\python38\\lib\\site-packages (from setuptools-scm>=4->matplotlib>=2.2->seaborn==0.11.2->-r requirements.txt (line 5)) (1.2.2)\n",
      "Requirement already satisfied: zipp>=0.5 in c:\\python\\python38\\lib\\site-packages (from importlib-metadata>=4.4->markdown>=2.6.8->tensorboard~=2.5->tensorflow==2.5.1->-r requirements.txt (line 3)) (3.6.0)\n",
      "Requirement already satisfied: pyasn1<0.5.0,>=0.4.6 in c:\\python\\python38\\lib\\site-packages (from pyasn1-modules>=0.2.1->google-auth<3,>=1.6.3->tensorboard~=2.5->tensorflow==2.5.1->-r requirements.txt (line 3)) (0.4.8)\n",
      "Requirement already satisfied: oauthlib>=3.0.0 in c:\\python\\python38\\lib\\site-packages (from requests-oauthlib>=0.7.0->google-auth-oauthlib<0.5,>=0.4.1->tensorboard~=2.5->tensorflow==2.5.1->-r requirements.txt (line 3)) (3.1.1)\n",
      "Note: you may need to restart the kernel to use updated packages.\n"
     ]
    }
   ],
   "source": [
    "pip install -r requirements.txt"
   ]
  },
  {
   "cell_type": "code",
   "execution_count": 3,
   "id": "f659bf19",
   "metadata": {
    "scrolled": true
   },
   "outputs": [
    {
     "name": "stdout",
     "output_type": "stream",
     "text": [
      "C:\\Users\\choud\\Emotion-detection\\src\n"
     ]
    }
   ],
   "source": [
    "cd src"
   ]
  },
  {
   "cell_type": "code",
   "execution_count": null,
   "id": "744b90fd",
   "metadata": {
    "scrolled": true
   },
   "outputs": [],
   "source": [
    "! python emotions.py --mode display"
   ]
  },
  {
   "cell_type": "code",
   "execution_count": null,
   "id": "35995b80",
   "metadata": {},
   "outputs": [],
   "source": [
    "pip install matplotlib"
   ]
  },
  {
   "cell_type": "markdown",
   "id": "c26c7267",
   "metadata": {},
   "source": [
    "# Import libraries and dataset"
   ]
  },
  {
   "cell_type": "code",
   "execution_count": 23,
   "id": "1c9e4539",
   "metadata": {},
   "outputs": [],
   "source": [
    "import numpy as np\n",
    "import matplotlib.pyplot as plt\n",
    "import pandas as pd\n",
    "import seaborn as sns\n",
    "dataset = pd.read_csv('fer2013.csv')\n",
    "dataset2 = dataset.copy()\n",
    "dataset2 = dataset.drop(['Usage'], axis=1)"
   ]
  },
  {
   "cell_type": "code",
   "execution_count": 24,
   "id": "853854b2",
   "metadata": {},
   "outputs": [],
   "source": [
    "def convert(col):\n",
    "    col=np.array(col.split(' ')).reshape(48*48*1,).astype('float32')\n",
    "    return col"
   ]
  },
  {
   "cell_type": "code",
   "execution_count": 25,
   "id": "3d4add01",
   "metadata": {},
   "outputs": [],
   "source": [
    "dataset2['pixels']=dataset2['pixels'].apply(convert)"
   ]
  },
  {
   "cell_type": "code",
   "execution_count": 26,
   "id": "50f0d509",
   "metadata": {},
   "outputs": [],
   "source": [
    "X=np.stack(dataset2['pixels'], axis=0)"
   ]
  },
  {
   "cell_type": "code",
   "execution_count": 27,
   "id": "fc0a756e",
   "metadata": {},
   "outputs": [],
   "source": [
    "y=dataset.iloc[:, 2].values"
   ]
  },
  {
   "cell_type": "markdown",
   "id": "ca474c22",
   "metadata": {},
   "source": [
    "# Label Encoding"
   ]
  },
  {
   "cell_type": "code",
   "execution_count": 28,
   "id": "8dcbe78d",
   "metadata": {},
   "outputs": [],
   "source": [
    "from sklearn.preprocessing import LabelEncoder\n",
    "le = LabelEncoder()\n",
    "y = le.fit_transform(y)"
   ]
  },
  {
   "cell_type": "markdown",
   "id": "04855958",
   "metadata": {},
   "source": [
    "# Splitting the dataset into Training and Validation set"
   ]
  },
  {
   "cell_type": "code",
   "execution_count": 29,
   "id": "8d1b4a60",
   "metadata": {},
   "outputs": [
    {
     "name": "stdout",
     "output_type": "stream",
     "text": [
      "[[ 38. 112. 188. ...   4.   5.   5.]\n",
      " [  3.   1.   8. ...  38.  48.  28.]\n",
      " [ 56.  39.  41. ...  60.  56.  37.]\n",
      " ...\n",
      " [ 60.  61.  64. ...  61.  58.  65.]\n",
      " [110. 125. 133. ... 151. 158. 167.]\n",
      " [ 27.  30.  33. ... 246.  76.   0.]]\n"
     ]
    }
   ],
   "source": [
    "from sklearn.model_selection import train_test_split\n",
    "X_train, X_test, y_train, y_test = train_test_split(X, y, test_size = 0.25, random_state = 0)\n",
    "print(X_train)"
   ]
  },
  {
   "cell_type": "code",
   "execution_count": 30,
   "id": "434845b4",
   "metadata": {},
   "outputs": [
    {
     "name": "stdout",
     "output_type": "stream",
     "text": [
      "[2 2 2 ... 1 2 2]\n"
     ]
    }
   ],
   "source": [
    "print(y_train)"
   ]
  },
  {
   "cell_type": "code",
   "execution_count": 31,
   "id": "557bfffc",
   "metadata": {},
   "outputs": [
    {
     "name": "stdout",
     "output_type": "stream",
     "text": [
      "[[185. 182. 176. ... 227. 234. 241.]\n",
      " [103.  50.   3. ...  65.  66.  66.]\n",
      " [255. 255. 255. ...  54.  78.  86.]\n",
      " ...\n",
      " [ 76.  70.  61. ... 104.  69. 128.]\n",
      " [104.  52. 125. ...  27.  35.  33.]\n",
      " [ 54.  87. 133. ...  17.  22.  39.]]\n"
     ]
    }
   ],
   "source": [
    "print(X_test)"
   ]
  },
  {
   "cell_type": "code",
   "execution_count": 32,
   "id": "750cc2fa",
   "metadata": {},
   "outputs": [
    {
     "name": "stdout",
     "output_type": "stream",
     "text": [
      "[0 2 2 ... 2 2 2]\n"
     ]
    }
   ],
   "source": [
    "print(y_test)"
   ]
  },
  {
   "cell_type": "markdown",
   "id": "cbec5fe4",
   "metadata": {},
   "source": [
    "# Feature Scaling"
   ]
  },
  {
   "cell_type": "code",
   "execution_count": 33,
   "id": "fe76162b",
   "metadata": {},
   "outputs": [
    {
     "name": "stdout",
     "output_type": "stream",
     "text": [
      "[[-0.98812807 -0.05324139  0.940038   ... -1.4021286  -1.3871421\n",
      "  -1.3879421 ]\n",
      " [-1.4136044  -1.4276537  -1.3274219  ... -0.96294326 -0.8362621\n",
      "  -1.0957726 ]\n",
      " [-0.7693116  -0.9571342  -0.9117209  ... -0.6787645  -0.7337728\n",
      "  -0.98144543]\n",
      " ...\n",
      " [-0.7206858  -0.6847281  -0.62198985 ... -0.6658473  -0.70815045\n",
      "  -0.62576085]\n",
      " [-0.1128625   0.10772581  0.24720307 ...  0.49670208  0.5729657\n",
      "   0.66994745]\n",
      " [-1.1218492  -1.068573   -1.012497   ...  1.7238376  -0.47754955\n",
      "  -1.4514573 ]]\n",
      "[[ 0.79887235  0.81350505  0.78887403 ...  1.4784105   1.5466139\n",
      "   1.6099712 ]\n",
      " [-0.19795774 -0.82093114 -1.3904068  ... -0.6141785  -0.60566115\n",
      "  -0.6130578 ]\n",
      " [ 1.6498251   1.7173978   1.784037   ... -0.75626785 -0.45192724\n",
      "  -0.35899737]\n",
      " ...\n",
      " [-0.5261823  -0.5732893  -0.65978086 ... -0.11040704 -0.56722766\n",
      "   0.17452957]\n",
      " [-0.18580128 -0.79616696  0.14642707 ... -1.1050327  -1.0028071\n",
      "  -1.0322574 ]\n",
      " [-0.7936246  -0.36279368  0.24720307 ... -1.2342048  -1.1693523\n",
      "  -0.95603937]]\n"
     ]
    }
   ],
   "source": [
    "from sklearn.preprocessing import StandardScaler\n",
    "sc = StandardScaler()\n",
    "X_train = sc.fit_transform(X_train)\n",
    "X_test = sc.transform(X_test)\n",
    "print(X_train)\n",
    "print(X_test)"
   ]
  },
  {
   "cell_type": "markdown",
   "id": "7606f6c7",
   "metadata": {},
   "source": [
    "# Decision Tree Classification"
   ]
  },
  {
   "cell_type": "code",
   "execution_count": 34,
   "id": "53f628bb",
   "metadata": {},
   "outputs": [],
   "source": [
    "from sklearn.tree import DecisionTreeClassifier\n",
    "dtree = DecisionTreeClassifier(random_state = 0)\n",
    "dtree.fit(X_train, y_train)\n",
    "y_pred = dtree.predict(X_test)"
   ]
  },
  {
   "cell_type": "markdown",
   "id": "e5a57398",
   "metadata": {},
   "source": [
    "# Predicting Test Set Results and Confusion Matrix"
   ]
  },
  {
   "cell_type": "code",
   "execution_count": 35,
   "id": "e7d7ea71",
   "metadata": {},
   "outputs": [
    {
     "name": "stdout",
     "output_type": "stream",
     "text": [
      "[[2 0]\n",
      " [2 2]\n",
      " [2 2]\n",
      " ...\n",
      " [1 2]\n",
      " [2 2]\n",
      " [2 2]]\n"
     ]
    }
   ],
   "source": [
    "y_pred = dtree.predict(X_test)\n",
    "print(np.concatenate((y_pred.reshape(len(y_pred),1), y_test.reshape\n",
    "(len(y_test),1)),1))"
   ]
  },
  {
   "cell_type": "code",
   "execution_count": 37,
   "id": "c1979e87",
   "metadata": {},
   "outputs": [
    {
     "name": "stdout",
     "output_type": "stream",
     "text": [
      "[[ 108   96  690]\n",
      " [ 102  105  672]\n",
      " [ 878  857 5464]]\n"
     ]
    }
   ],
   "source": [
    "from sklearn.metrics import confusion_matrix, accuracy_score , precision_score , recall_score , f1_score\n",
    "cm = confusion_matrix(y_test, y_pred)\n",
    "print(cm)"
   ]
  },
  {
   "cell_type": "markdown",
   "id": "f8c75fac",
   "metadata": {},
   "source": [
    "# Accuracy, Precision, Recall and F1 Score"
   ]
  },
  {
   "cell_type": "code",
   "execution_count": 40,
   "id": "a3fae04d",
   "metadata": {},
   "outputs": [
    {
     "name": "stdout",
     "output_type": "stream",
     "text": [
      "Accuracy Score : 0.6327463218903254\n",
      "Precision Score : 0.6618984460099779\n",
      "Recall Score : 0.6327463218903254\n",
      "f1 Score : 0.646683324474664\n"
     ]
    }
   ],
   "source": [
    "print(\"Accuracy Score :\",accuracy_score(y_test, y_pred))\n",
    "print(\"Precision Score :\",precision_score(y_test, y_pred, average='weighted'))\n",
    "print(\"Recall Score :\",recall_score(y_test, y_pred, average='weighted'))\n",
    "print(\"f1 Score :\",f1_score(y_test, y_pred, average='weighted'))"
   ]
  },
  {
   "cell_type": "markdown",
   "id": "88e24d70",
   "metadata": {},
   "source": [
    "# Classification Report and Heat Map"
   ]
  },
  {
   "cell_type": "code",
   "execution_count": 41,
   "id": "c8a8b73d",
   "metadata": {},
   "outputs": [
    {
     "name": "stdout",
     "output_type": "stream",
     "text": [
      "              precision    recall  f1-score   support\n",
      "\n",
      "    training       0.10      0.12      0.11       894\n",
      "  PublicTest       0.10      0.12      0.11       879\n",
      " PrivateTest       0.80      0.76      0.78      7199\n",
      "\n",
      "    accuracy                           0.63      8972\n",
      "   macro avg       0.33      0.33      0.33      8972\n",
      "weighted avg       0.66      0.63      0.65      8972\n",
      "\n"
     ]
    }
   ],
   "source": [
    "from sklearn.metrics import classification_report\n",
    "print(classification_report(y_test, y_pred, target_names=['training', 'PublicTest', 'PrivateTest']))"
   ]
  },
  {
   "cell_type": "code",
   "execution_count": 42,
   "id": "f8646c60",
   "metadata": {},
   "outputs": [
    {
     "data": {
      "text/plain": [
       "<AxesSubplot:>"
      ]
     },
     "execution_count": 42,
     "metadata": {},
     "output_type": "execute_result"
    },
    {
     "data": {
      "image/png": "[encoded data removed]",
      "text/plain": [
       "<Figure size 432x288 with 2 Axes>"
      ]
     },
     "metadata": {
      "needs_background": "light"
     },
     "output_type": "display_data"
    }
   ],
   "source": [
    "classificationReport=classification_report(y_test, y_pred, target_names=['training', 'PublicTest', 'PrivateTest'], output_dict=True)\n",
    "cleaned_report={}\n",
    "cleaned_report['training']=classificationReport['training']\n",
    "cleaned_report['PublicTest']=classificationReport['PublicTest']\n",
    "cleaned_report['PrivateTest']=classificationReport['PrivateTest']\n",
    "sns.heatmap(pd.DataFrame(cleaned_report).iloc[:-1,:], annot=True)"
   ]
  },
  {
   "cell_type": "code",
   "execution_count": 47,
   "id": "36cfa2b7",
   "metadata": {},
   "outputs": [
    {
     "data": {
      "text/html": [
       "<div>\n",
       "<style scoped>\n",
       "    .dataframe tbody tr th:only-of-type {\n",
       "        vertical-align: middle;\n",
       "    }\n",
       "\n",
       "    .dataframe tbody tr th {\n",
       "        vertical-align: top;\n",
       "    }\n",
       "\n",
       "    .dataframe thead th {\n",
       "        text-align: right;\n",
       "    }\n",
       "</style>\n",
       "<table border=\"1\" class=\"dataframe\">\n",
       "  <thead>\n",
       "    <tr style=\"text-align: right;\">\n",
       "      <th></th>\n",
       "      <th>Accuracy Score</th>\n",
       "      <th>Precision Score</th>\n",
       "      <th>Recall Score</th>\n",
       "      <th>F1 Score</th>\n",
       "    </tr>\n",
       "    <tr>\n",
       "      <th>Algorithm</th>\n",
       "      <th></th>\n",
       "      <th></th>\n",
       "      <th></th>\n",
       "      <th></th>\n",
       "    </tr>\n",
       "  </thead>\n",
       "  <tbody>\n",
       "    <tr>\n",
       "      <th>Decision Tree</th>\n",
       "      <td>0.632746</td>\n",
       "      <td>0.661898</td>\n",
       "      <td>0.632746</td>\n",
       "      <td>0.646683</td>\n",
       "    </tr>\n",
       "  </tbody>\n",
       "</table>\n",
       "</div>"
      ],
      "text/plain": [
       "               Accuracy Score  Precision Score  Recall Score  F1 Score\n",
       "Algorithm                                                             \n",
       "Decision Tree        0.632746         0.661898      0.632746  0.646683"
      ]
     },
     "execution_count": 47,
     "metadata": {},
     "output_type": "execute_result"
    }
   ],
   "source": [
    "d=['Decision Tree', accuracy_score(y_test, y_pred), precision_score(y_test, y_pred, average='weighted'), recall_score(y_test, y_pred, average='weighted'), f1_score(y_test, y_pred, average='weighted')]\n",
    "df=pd.DataFrame([d], columns=['Algorithm', 'Accuracy Score', 'Precision Score', 'Recall Score', 'F1 Score'])\n",
    "df.set_index('Algorithm', inplace=True)\n",
    "df"
   ]
  },
  {
   "cell_type": "code",
   "execution_count": 48,
   "id": "96923c3c",
   "metadata": {},
   "outputs": [
    {
     "data": {
      "image/png": "[encoded data removed]",
      "text/plain": [
       "<Figure size 432x288 with 1 Axes>"
      ]
     },
     "metadata": {
      "needs_background": "light"
     },
     "output_type": "display_data"
    }
   ],
   "source": [
    "df.plot.bar()\n",
    "plt.show()"
   ]
  },
  {
   "cell_type": "code",
   "execution_count": null,
   "id": "213bab55",
   "metadata": {},
   "outputs": [],
   "source": []
  }
 ],
 "metadata": {
  "kernelspec": {
   "display_name": "Python 3 (ipykernel)",
   "language": "python",
   "name": "python3"
  },
  "language_info": {
   "codemirror_mode": {
    "name": "ipython",
    "version": 3
   },
   "file_extension": ".py",
   "mimetype": "text/x-python",
   "name": "python",
   "nbconvert_exporter": "python",
   "pygments_lexer": "ipython3",
   "version": "3.8.2"
  }
 },
 "nbformat": 4,
 "nbformat_minor": 5
}
